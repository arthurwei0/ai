{
 "cells": [
  {
   "cell_type": "markdown",
   "metadata": {},
   "source": [
    "https://www.tensorflow.org/guide/keras"
   ]
  },
  {
   "cell_type": "code",
   "execution_count": 1,
   "metadata": {},
   "outputs": [
    {
     "name": "stdout",
     "output_type": "stream",
     "text": [
      "1.10.0\n"
     ]
    }
   ],
   "source": [
    "import tensorflow as tf\n",
    "from tensorflow import keras\n",
    "\n",
    "print(tf.__version__)"
   ]
  },
  {
   "cell_type": "code",
   "execution_count": 2,
   "metadata": {},
   "outputs": [],
   "source": [
    "(train_images, train_labels), (test_images, test_labels) = keras.datasets.mnist.load_data()\n",
    "\n",
    "train_labels = train_labels[:1000]\n",
    "test_labels = test_labels[:1000]\n",
    "\n",
    "train_images = train_images[:1000].reshape(-1, 28*28) / 255.0\n",
    "test_images = test_images[:1000].reshape(-1, 28*28) / 255.0"
   ]
  },
  {
   "cell_type": "code",
   "execution_count": 3,
   "metadata": {},
   "outputs": [
    {
     "name": "stdout",
     "output_type": "stream",
     "text": [
      "_________________________________________________________________\n",
      "Layer (type)                 Output Shape              Param #   \n",
      "=================================================================\n",
      "input_1 (InputLayer)         (None, 784)               0         \n",
      "_________________________________________________________________\n",
      "dense (Dense)                (None, 512)               401920    \n",
      "_________________________________________________________________\n",
      "dense_1 (Dense)              (None, 10)                5130      \n",
      "=================================================================\n",
      "Total params: 407,050\n",
      "Trainable params: 407,050\n",
      "Non-trainable params: 0\n",
      "_________________________________________________________________\n"
     ]
    }
   ],
   "source": [
    "# Create a model by functional API\n",
    "\n",
    "inputs = keras.Input(shape=(784,))\n",
    "x = keras.layers.Dense(512, activation='relu')(inputs)\n",
    "#x = keras.layers.Dense(512, activation='relu')(x)\n",
    "outputs = keras.layers.Dense(10, activation='softmax')(x)\n",
    "\n",
    "model = keras.Model(inputs=inputs, outputs=outputs)\n",
    "\n",
    "model.compile(optimizer=tf.train.AdamOptimizer(),\n",
    "             loss=keras.losses.sparse_categorical_crossentropy,\n",
    "             metrics=['accuracy'])\n",
    "\n",
    "model.summary()"
   ]
  },
  {
   "cell_type": "code",
   "execution_count": 4,
   "metadata": {},
   "outputs": [
    {
     "name": "stdout",
     "output_type": "stream",
     "text": [
      "Train on 1000 samples, validate on 1000 samples\n",
      "Epoch 1/20\n",
      "1000/1000 [==============================] - 0s 178us/step - loss: 1.1128 - acc: 0.7000 - val_loss: 0.7166 - val_acc: 0.7590\n",
      "Epoch 2/20\n",
      "1000/1000 [==============================] - 0s 90us/step - loss: 0.3790 - acc: 0.8960 - val_loss: 0.5038 - val_acc: 0.8460\n",
      "Epoch 3/20\n",
      "1000/1000 [==============================] - 0s 92us/step - loss: 0.2474 - acc: 0.9400 - val_loss: 0.4747 - val_acc: 0.8520\n",
      "Epoch 4/20\n",
      "1000/1000 [==============================] - 0s 91us/step - loss: 0.1745 - acc: 0.9650 - val_loss: 0.4595 - val_acc: 0.8640\n",
      "Epoch 5/20\n",
      "1000/1000 [==============================] - 0s 90us/step - loss: 0.1164 - acc: 0.9780 - val_loss: 0.4536 - val_acc: 0.8530\n",
      "Epoch 6/20\n",
      "1000/1000 [==============================] - 0s 91us/step - loss: 0.0858 - acc: 0.9890 - val_loss: 0.4619 - val_acc: 0.8630\n",
      "Epoch 7/20\n",
      "1000/1000 [==============================] - 0s 97us/step - loss: 0.0711 - acc: 0.9950 - val_loss: 0.4513 - val_acc: 0.8620\n",
      "Epoch 8/20\n",
      "1000/1000 [==============================] - 0s 111us/step - loss: 0.0433 - acc: 0.9990 - val_loss: 0.4353 - val_acc: 0.8620\n",
      "Epoch 9/20\n",
      "1000/1000 [==============================] - 0s 99us/step - loss: 0.0308 - acc: 1.0000 - val_loss: 0.4336 - val_acc: 0.8590\n",
      "Epoch 10/20\n",
      "1000/1000 [==============================] - 0s 101us/step - loss: 0.0233 - acc: 1.0000 - val_loss: 0.4374 - val_acc: 0.8650\n",
      "Epoch 11/20\n",
      "1000/1000 [==============================] - 0s 96us/step - loss: 0.0181 - acc: 1.0000 - val_loss: 0.4288 - val_acc: 0.8670\n",
      "Epoch 12/20\n",
      "1000/1000 [==============================] - 0s 91us/step - loss: 0.0151 - acc: 1.0000 - val_loss: 0.4408 - val_acc: 0.8590\n",
      "Epoch 13/20\n",
      "1000/1000 [==============================] - 0s 102us/step - loss: 0.0123 - acc: 1.0000 - val_loss: 0.4363 - val_acc: 0.8670\n",
      "Epoch 14/20\n",
      "1000/1000 [==============================] - 0s 101us/step - loss: 0.0106 - acc: 1.0000 - val_loss: 0.4385 - val_acc: 0.8620\n",
      "Epoch 15/20\n",
      "1000/1000 [==============================] - 0s 91us/step - loss: 0.0090 - acc: 1.0000 - val_loss: 0.4304 - val_acc: 0.8670\n",
      "Epoch 16/20\n",
      "1000/1000 [==============================] - 0s 97us/step - loss: 0.0078 - acc: 1.0000 - val_loss: 0.4358 - val_acc: 0.8670\n",
      "Epoch 17/20\n",
      "1000/1000 [==============================] - 0s 105us/step - loss: 0.0070 - acc: 1.0000 - val_loss: 0.4435 - val_acc: 0.8690\n",
      "Epoch 18/20\n",
      "1000/1000 [==============================] - 0s 104us/step - loss: 0.0062 - acc: 1.0000 - val_loss: 0.4449 - val_acc: 0.8670\n",
      "Epoch 19/20\n",
      "1000/1000 [==============================] - 0s 102us/step - loss: 0.0055 - acc: 1.0000 - val_loss: 0.4547 - val_acc: 0.8660\n",
      "Epoch 20/20\n",
      "1000/1000 [==============================] - 0s 100us/step - loss: 0.0049 - acc: 1.0000 - val_loss: 0.4524 - val_acc: 0.8660\n"
     ]
    },
    {
     "data": {
      "text/plain": [
       "<tensorflow.python.keras.callbacks.History at 0x11288dd30>"
      ]
     },
     "execution_count": 4,
     "metadata": {},
     "output_type": "execute_result"
    }
   ],
   "source": [
    "callbacks = [\n",
    "    keras.callbacks.TensorBoard(log_dir='./logs')\n",
    "]\n",
    "\n",
    "model.fit(train_images, train_labels, epochs=20, batch_size=32,\n",
    "          callbacks=callbacks,\n",
    "          validation_data=(test_images, test_labels))"
   ]
  },
  {
   "cell_type": "code",
   "execution_count": null,
   "metadata": {},
   "outputs": [
    {
     "name": "stdout",
     "output_type": "stream",
     "text": [
      "TensorBoard 1.10.0 at http://weiguo-mac.corp.adobe.com:6006 (Press CTRL+C to quit)\n",
      "\u001b[33mW0821 15:48:47.161699 Reloader tf_logging.py:120] Found more than one graph event per run, or there was a metagraph containing a graph_def, as well as one or more graph events.  Overwriting the graph with the newest event.\n",
      "\u001b[0mW0821 15:48:47.161699 123145420988416 tf_logging.py:120] Found more than one graph event per run, or there was a metagraph containing a graph_def, as well as one or more graph events.  Overwriting the graph with the newest event.\n",
      "\u001b[33mW0821 15:48:47.162406 Reloader tf_logging.py:120] Found more than one metagraph event per run. Overwriting the metagraph with the newest event.\n",
      "\u001b[0mW0821 15:48:47.162405 123145420988416 tf_logging.py:120] Found more than one metagraph event per run. Overwriting the metagraph with the newest event.\n"
     ]
    }
   ],
   "source": [
    "!tensorboard --logdir=./logs"
   ]
  },
  {
   "cell_type": "code",
   "execution_count": null,
   "metadata": {},
   "outputs": [],
   "source": []
  }
 ],
 "metadata": {
  "kernelspec": {
   "display_name": "Python 3",
   "language": "python",
   "name": "python3"
  },
  "language_info": {
   "codemirror_mode": {
    "name": "ipython",
    "version": 3
   },
   "file_extension": ".py",
   "mimetype": "text/x-python",
   "name": "python",
   "nbconvert_exporter": "python",
   "pygments_lexer": "ipython3",
   "version": "3.6.5"
  }
 },
 "nbformat": 4,
 "nbformat_minor": 2
}
