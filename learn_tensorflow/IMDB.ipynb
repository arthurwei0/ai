{
 "cells": [
  {
   "cell_type": "code",
   "execution_count": 17,
   "metadata": {},
   "outputs": [
    {
     "name": "stdout",
     "output_type": "stream",
     "text": [
      "1.10.0\n"
     ]
    }
   ],
   "source": [
    "import tensorflow as tf\n",
    "from tensorflow import keras\n",
    "import numpy as np\n",
    "print (tf.__version__)"
   ]
  },
  {
   "cell_type": "code",
   "execution_count": 19,
   "metadata": {},
   "outputs": [],
   "source": [
    "imdb = keras.datasets.imdb\n",
    "(train_data, train_labels), (test_data, test_labels) = imdb.load_data(num_words=10000)\n"
   ]
  },
  {
   "cell_type": "code",
   "execution_count": 20,
   "metadata": {},
   "outputs": [
    {
     "data": {
      "text/plain": [
       "260"
      ]
     },
     "execution_count": 20,
     "metadata": {},
     "output_type": "execute_result"
    }
   ],
   "source": [
    "len(test_data[1])"
   ]
  },
  {
   "cell_type": "code",
   "execution_count": 21,
   "metadata": {},
   "outputs": [],
   "source": [
    "word_index = imdb.get_word_index()"
   ]
  },
  {
   "cell_type": "code",
   "execution_count": 22,
   "metadata": {},
   "outputs": [],
   "source": [
    "word_index = {k:(v+3) for k,v in word_index.items()}\n",
    "word_index[\"<PAD>\"] = 0\n",
    "word_index[\"<START>\"] = 1\n",
    "word_index[\"<UNK>\"] = 2  # unknown\n",
    "word_index[\"<UNUSED>\"] = 3"
   ]
  },
  {
   "cell_type": "code",
   "execution_count": 23,
   "metadata": {},
   "outputs": [],
   "source": [
    "reverse_word_index = dict([(value,key) for (key, value) in word_index.items()])"
   ]
  },
  {
   "cell_type": "code",
   "execution_count": 24,
   "metadata": {},
   "outputs": [],
   "source": [
    "def decode_review(text):\n",
    "    return \" \".join([reverse_word_index.get(i, '?') for i in text])"
   ]
  },
  {
   "cell_type": "code",
   "execution_count": 25,
   "metadata": {},
   "outputs": [
    {
     "name": "stdout",
     "output_type": "stream",
     "text": [
      "[1, 14, 22, 16, 43, 530, 973, 1622, 1385, 65, 458, 4468, 66, 3941, 4, 173, 36, 256, 5, 25, 100, 43, 838, 112, 50, 670, 2, 9, 35, 480, 284, 5, 150, 4, 172, 112, 167, 2, 336, 385, 39, 4, 172, 4536, 1111, 17, 546, 38, 13, 447, 4, 192, 50, 16, 6, 147, 2025, 19, 14, 22, 4, 1920, 4613, 469, 4, 22, 71, 87, 12, 16, 43, 530, 38, 76, 15, 13, 1247, 4, 22, 17, 515, 17, 12, 16, 626, 18, 2, 5, 62, 386, 12, 8, 316, 8, 106, 5, 4, 2223, 5244, 16, 480, 66, 3785, 33, 4, 130, 12, 16, 38, 619, 5, 25, 124, 51, 36, 135, 48, 25, 1415, 33, 6, 22, 12, 215, 28, 77, 52, 5, 14, 407, 16, 82, 2, 8, 4, 107, 117, 5952, 15, 256, 4, 2, 7, 3766, 5, 723, 36, 71, 43, 530, 476, 26, 400, 317, 46, 7, 4, 2, 1029, 13, 104, 88, 4, 381, 15, 297, 98, 32, 2071, 56, 26, 141, 6, 194, 7486, 18, 4, 226, 22, 21, 134, 476, 26, 480, 5, 144, 30, 5535, 18, 51, 36, 28, 224, 92, 25, 104, 4, 226, 65, 16, 38, 1334, 88, 12, 16, 283, 5, 16, 4472, 113, 103, 32, 15, 16, 5345, 19, 178, 32]\n"
     ]
    },
    {
     "data": {
      "text/plain": [
       "u\"<START> this film was just brilliant casting location scenery story direction everyone's really suited the part they played and you could just imagine being there robert <UNK> is an amazing actor and now the same being director <UNK> father came from the same scottish island as myself so i loved the fact there was a real connection with this film the witty remarks throughout the film were great it was just brilliant so much that i bought the film as soon as it was released for <UNK> and would recommend it to everyone to watch and the fly fishing was amazing really cried at the end it was so sad and you know what they say if you cry at a film it must have been good and this definitely was also <UNK> to the two little boy's that played the <UNK> of norman and paul they were just brilliant children are often left out of the <UNK> list i think because the stars that play them all grown up are such a big profile for the whole film but these children are amazing and should be praised for what they have done don't you think the whole story was so lovely because it was true and was someone's life after all that was shared with us all\""
      ]
     },
     "execution_count": 25,
     "metadata": {},
     "output_type": "execute_result"
    }
   ],
   "source": [
    "print(train_data[0])\n",
    "decode_review(train_data[0])"
   ]
  },
  {
   "cell_type": "code",
   "execution_count": 26,
   "metadata": {},
   "outputs": [
    {
     "name": "stdout",
     "output_type": "stream",
     "text": [
      "(2494, 17934)\n",
      "(218, 0)\n",
      "189\n"
     ]
    }
   ],
   "source": [
    "max_len = 0\n",
    "max_i = 0\n",
    "min_len = len(train_data[0])\n",
    "min_i = 0\n",
    "for i in range(len(train_data)):\n",
    "    if (len(train_data[i]) > max_len):\n",
    "        max_len = len(train_data[i])\n",
    "        max_i = i\n",
    "        \n",
    "print (max_len, max_i)\n",
    "print (min_len, min_i)\n",
    "print (len(train_data[1]))"
   ]
  },
  {
   "cell_type": "code",
   "execution_count": 27,
   "metadata": {},
   "outputs": [],
   "source": [
    "train_data = keras.preprocessing.sequence.pad_sequences(\n",
    "    train_data,\n",
    "    value=word_index[\"<PAD>\"],\n",
    "    padding=\"post\",\n",
    "    maxlen=256)\n",
    "test_data = keras.preprocessing.sequence.pad_sequences(\n",
    "    test_data,\n",
    "    value=word_index[\"<PAD>\"],\n",
    "    padding=\"post\",\n",
    "    maxlen=256)"
   ]
  },
  {
   "cell_type": "code",
   "execution_count": 28,
   "metadata": {},
   "outputs": [
    {
     "name": "stdout",
     "output_type": "stream",
     "text": [
      "[   1   14   22   16   43  530  973 1622 1385   65  458 4468   66 3941\n",
      "    4  173   36  256    5   25  100   43  838  112   50  670    2    9\n",
      "   35  480  284    5  150    4  172  112  167    2  336  385   39    4\n",
      "  172 4536 1111   17  546   38   13  447    4  192   50   16    6  147\n",
      " 2025   19   14   22    4 1920 4613  469    4   22   71   87   12   16\n",
      "   43  530   38   76   15   13 1247    4   22   17  515   17   12   16\n",
      "  626   18    2    5   62  386   12    8  316    8  106    5    4 2223\n",
      " 5244   16  480   66 3785   33    4  130   12   16   38  619    5   25\n",
      "  124   51   36  135   48   25 1415   33    6   22   12  215   28   77\n",
      "   52    5   14  407   16   82    2    8    4  107  117 5952   15  256\n",
      "    4    2    7 3766    5  723   36   71   43  530  476   26  400  317\n",
      "   46    7    4    2 1029   13  104   88    4  381   15  297   98   32\n",
      " 2071   56   26  141    6  194 7486   18    4  226   22   21  134  476\n",
      "   26  480    5  144   30 5535   18   51   36   28  224   92   25  104\n",
      "    4  226   65   16   38 1334   88   12   16  283    5   16 4472  113\n",
      "  103   32   15   16 5345   19  178   32    0    0    0    0    0    0\n",
      "    0    0    0    0    0    0    0    0    0    0    0    0    0    0\n",
      "    0    0    0    0    0    0    0    0    0    0    0    0    0    0\n",
      "    0    0    0    0]\n"
     ]
    }
   ],
   "source": [
    "print(train_data[0])"
   ]
  },
  {
   "cell_type": "code",
   "execution_count": 29,
   "metadata": {},
   "outputs": [
    {
     "name": "stdout",
     "output_type": "stream",
     "text": [
      "_________________________________________________________________\n",
      "Layer (type)                 Output Shape              Param #   \n",
      "=================================================================\n",
      "embedding_1 (Embedding)      (None, None, 16)          160000    \n",
      "_________________________________________________________________\n",
      "global_average_pooling1d_1 ( (None, 16)                0         \n",
      "_________________________________________________________________\n",
      "dense_2 (Dense)              (None, 16)                272       \n",
      "_________________________________________________________________\n",
      "dense_3 (Dense)              (None, 1)                 17        \n",
      "=================================================================\n",
      "Total params: 160,289\n",
      "Trainable params: 160,289\n",
      "Non-trainable params: 0\n",
      "_________________________________________________________________\n"
     ]
    }
   ],
   "source": [
    "vocab_size = 10000\n",
    "\n",
    "model = keras.Sequential()\n",
    "model.add(keras.layers.Embedding(vocab_size, 16))\n",
    "model.add(keras.layers.GlobalAveragePooling1D())\n",
    "model.add(keras.layers.Dense(16, activation=tf.nn.relu))\n",
    "model.add(keras.layers.Dense(1, activation=tf.nn.sigmoid))\n",
    "\n",
    "model.summary()"
   ]
  },
  {
   "cell_type": "code",
   "execution_count": 30,
   "metadata": {},
   "outputs": [],
   "source": [
    "model.compile(optimizer = tf.train.AdamOptimizer(),\n",
    "             loss = 'binary_crossentropy',\n",
    "             metrics=['accuracy'])"
   ]
  },
  {
   "cell_type": "code",
   "execution_count": 31,
   "metadata": {},
   "outputs": [],
   "source": [
    "x_val = train_data[:10000]\n",
    "partial_x_train = train_data[10000:]\n",
    "\n",
    "y_val = train_labels[:10000]\n",
    "partial_y_train = train_labels[10000:]"
   ]
  },
  {
   "cell_type": "code",
   "execution_count": 32,
   "metadata": {},
   "outputs": [
    {
     "name": "stdout",
     "output_type": "stream",
     "text": [
      "Train on 15000 samples, validate on 10000 samples\n",
      "Epoch 1/40\n",
      "15000/15000 [==============================] - 1s 48us/step - loss: 0.6947 - acc: 0.4989 - val_loss: 0.6933 - val_acc: 0.4955\n",
      "Epoch 2/40\n",
      "15000/15000 [==============================] - 0s 26us/step - loss: 0.6921 - acc: 0.5399 - val_loss: 0.6915 - val_acc: 0.5410\n",
      "Epoch 3/40\n",
      "15000/15000 [==============================] - 0s 26us/step - loss: 0.6908 - acc: 0.5580 - val_loss: 0.6907 - val_acc: 0.5287\n",
      "Epoch 4/40\n",
      "15000/15000 [==============================] - 0s 26us/step - loss: 0.6895 - acc: 0.5878 - val_loss: 0.6893 - val_acc: 0.5424\n",
      "Epoch 5/40\n",
      "15000/15000 [==============================] - 0s 26us/step - loss: 0.6875 - acc: 0.5964 - val_loss: 0.6870 - val_acc: 0.6966\n",
      "Epoch 6/40\n",
      "15000/15000 [==============================] - 0s 32us/step - loss: 0.6849 - acc: 0.6875 - val_loss: 0.6841 - val_acc: 0.6938\n",
      "Epoch 7/40\n",
      "15000/15000 [==============================] - 0s 29us/step - loss: 0.6802 - acc: 0.6579 - val_loss: 0.6785 - val_acc: 0.6344\n",
      "Epoch 8/40\n",
      "15000/15000 [==============================] - 0s 26us/step - loss: 0.6726 - acc: 0.6967 - val_loss: 0.6708 - val_acc: 0.6917\n",
      "Epoch 9/40\n",
      "15000/15000 [==============================] - 0s 32us/step - loss: 0.6632 - acc: 0.7268 - val_loss: 0.6605 - val_acc: 0.7249\n",
      "Epoch 10/40\n",
      "15000/15000 [==============================] - 0s 29us/step - loss: 0.6506 - acc: 0.7497 - val_loss: 0.6474 - val_acc: 0.7395\n",
      "Epoch 11/40\n",
      "15000/15000 [==============================] - 0s 26us/step - loss: 0.6353 - acc: 0.7449 - val_loss: 0.6322 - val_acc: 0.7481\n",
      "Epoch 12/40\n",
      "15000/15000 [==============================] - 0s 27us/step - loss: 0.6159 - acc: 0.7662 - val_loss: 0.6127 - val_acc: 0.7593\n",
      "Epoch 13/40\n",
      "15000/15000 [==============================] - 0s 31us/step - loss: 0.5932 - acc: 0.7786 - val_loss: 0.5923 - val_acc: 0.7672\n",
      "Epoch 14/40\n",
      "15000/15000 [==============================] - 0s 32us/step - loss: 0.5685 - acc: 0.7876 - val_loss: 0.5680 - val_acc: 0.7792\n",
      "Epoch 15/40\n",
      "15000/15000 [==============================] - 0s 27us/step - loss: 0.5414 - acc: 0.8008 - val_loss: 0.5427 - val_acc: 0.7887\n",
      "Epoch 16/40\n",
      "15000/15000 [==============================] - 0s 28us/step - loss: 0.5141 - acc: 0.8099 - val_loss: 0.5182 - val_acc: 0.7997\n",
      "Epoch 17/40\n",
      "15000/15000 [==============================] - 0s 26us/step - loss: 0.4860 - acc: 0.8253 - val_loss: 0.4940 - val_acc: 0.8099\n",
      "Epoch 18/40\n",
      "15000/15000 [==============================] - 0s 26us/step - loss: 0.4593 - acc: 0.8380 - val_loss: 0.4702 - val_acc: 0.8170\n",
      "Epoch 19/40\n",
      "15000/15000 [==============================] - 0s 31us/step - loss: 0.4338 - acc: 0.8487 - val_loss: 0.4484 - val_acc: 0.8292\n",
      "Epoch 20/40\n",
      "15000/15000 [==============================] - 0s 30us/step - loss: 0.4103 - acc: 0.8585 - val_loss: 0.4286 - val_acc: 0.8368\n",
      "Epoch 21/40\n",
      "15000/15000 [==============================] - 0s 27us/step - loss: 0.3884 - acc: 0.8665 - val_loss: 0.4106 - val_acc: 0.8444\n",
      "Epoch 22/40\n",
      "15000/15000 [==============================] - 0s 31us/step - loss: 0.3688 - acc: 0.8745 - val_loss: 0.3948 - val_acc: 0.8491\n",
      "Epoch 23/40\n",
      "15000/15000 [==============================] - 0s 28us/step - loss: 0.3514 - acc: 0.8797 - val_loss: 0.3814 - val_acc: 0.8517\n",
      "Epoch 24/40\n",
      "15000/15000 [==============================] - 0s 27us/step - loss: 0.3355 - acc: 0.8847 - val_loss: 0.3693 - val_acc: 0.8561\n",
      "Epoch 25/40\n",
      "15000/15000 [==============================] - 0s 26us/step - loss: 0.3215 - acc: 0.8892 - val_loss: 0.3589 - val_acc: 0.8606\n",
      "Epoch 26/40\n",
      "15000/15000 [==============================] - 0s 26us/step - loss: 0.3088 - acc: 0.8922 - val_loss: 0.3500 - val_acc: 0.8639\n",
      "Epoch 27/40\n",
      "15000/15000 [==============================] - 0s 26us/step - loss: 0.2976 - acc: 0.8942 - val_loss: 0.3421 - val_acc: 0.8659\n",
      "Epoch 28/40\n",
      "15000/15000 [==============================] - 0s 26us/step - loss: 0.2869 - acc: 0.8989 - val_loss: 0.3351 - val_acc: 0.8685\n",
      "Epoch 29/40\n",
      "15000/15000 [==============================] - 0s 25us/step - loss: 0.2774 - acc: 0.9020 - val_loss: 0.3294 - val_acc: 0.8702\n",
      "Epoch 30/40\n",
      "15000/15000 [==============================] - 0s 30us/step - loss: 0.2692 - acc: 0.9031 - val_loss: 0.3239 - val_acc: 0.8717\n",
      "Epoch 31/40\n",
      "15000/15000 [==============================] - 0s 29us/step - loss: 0.2604 - acc: 0.9075 - val_loss: 0.3193 - val_acc: 0.8739\n",
      "Epoch 32/40\n",
      "15000/15000 [==============================] - 0s 27us/step - loss: 0.2534 - acc: 0.9099 - val_loss: 0.3152 - val_acc: 0.8751\n",
      "Epoch 33/40\n",
      "15000/15000 [==============================] - 0s 33us/step - loss: 0.2457 - acc: 0.9119 - val_loss: 0.3118 - val_acc: 0.8758\n",
      "Epoch 34/40\n",
      "15000/15000 [==============================] - 0s 28us/step - loss: 0.2390 - acc: 0.9154 - val_loss: 0.3083 - val_acc: 0.8764\n",
      "Epoch 35/40\n",
      "15000/15000 [==============================] - 0s 26us/step - loss: 0.2331 - acc: 0.9163 - val_loss: 0.3053 - val_acc: 0.8783\n",
      "Epoch 36/40\n",
      "15000/15000 [==============================] - 0s 26us/step - loss: 0.2265 - acc: 0.9197 - val_loss: 0.3030 - val_acc: 0.8777\n",
      "Epoch 37/40\n",
      "15000/15000 [==============================] - 0s 26us/step - loss: 0.2208 - acc: 0.9221 - val_loss: 0.3009 - val_acc: 0.8796\n",
      "Epoch 38/40\n",
      "15000/15000 [==============================] - 0s 26us/step - loss: 0.2154 - acc: 0.9234 - val_loss: 0.2982 - val_acc: 0.8800\n",
      "Epoch 39/40\n",
      "15000/15000 [==============================] - 0s 29us/step - loss: 0.2098 - acc: 0.9260 - val_loss: 0.2966 - val_acc: 0.8805\n",
      "Epoch 40/40\n",
      "15000/15000 [==============================] - 1s 34us/step - loss: 0.2047 - acc: 0.9277 - val_loss: 0.2946 - val_acc: 0.8815\n"
     ]
    }
   ],
   "source": [
    "history = model.fit(partial_x_train,\n",
    "                   partial_y_train,\n",
    "                   epochs = 40,\n",
    "                   batch_size = 512,\n",
    "                   validation_data = (x_val, y_val),\n",
    "                   verbose=1)"
   ]
  },
  {
   "cell_type": "code",
   "execution_count": 33,
   "metadata": {},
   "outputs": [
    {
     "name": "stdout",
     "output_type": "stream",
     "text": [
      "25000/25000 [==============================] - 0s 12us/step\n",
      "[0.3081683064651489, 0.8744]\n"
     ]
    }
   ],
   "source": [
    "results = model.evaluate(test_data, test_labels)\n",
    "print(results)"
   ]
  },
  {
   "cell_type": "code",
   "execution_count": 34,
   "metadata": {},
   "outputs": [
    {
     "data": {
      "text/plain": [
       "['acc', 'loss', 'val_acc', 'val_loss']"
      ]
     },
     "execution_count": 34,
     "metadata": {},
     "output_type": "execute_result"
    }
   ],
   "source": [
    "history_dict = history.history\n",
    "history_dict.keys()"
   ]
  },
  {
   "cell_type": "code",
   "execution_count": 44,
   "metadata": {},
   "outputs": [
    {
     "data": {
      "image/png": "[encoded data removed]",
      "text/plain": [
       "<matplotlib.figure.Figure at 0x11c0d3790>"
      ]
     },
     "metadata": {},
     "output_type": "display_data"
    }
   ],
   "source": [
    "import matplotlib.pyplot as plt\n",
    "\n",
    "acc = history.history['acc']\n",
    "loss = history.history['loss']\n",
    "val_acc = history.history['val_acc']\n",
    "val_loss = history.history['val_loss']\n",
    "\n",
    "epochs = range(1, len(acc) + 1)\n",
    "\n",
    "plt.plot(epochs, loss, 'bo', label=\"Training loss\")\n",
    "plt.plot(epochs, val_loss, 'b', label=\"Validation loss\")\n",
    "plt.title('Training and Validation Loss')\n",
    "plt.xlabel('Epochs')\n",
    "plt.ylabel('Loss')\n",
    "plt.legend()\n",
    "\n",
    "plt.show()\n"
   ]
  },
  {
   "cell_type": "code",
   "execution_count": 45,
   "metadata": {},
   "outputs": [
    {
     "data": {
      "image/png": "[encoded data removed]",
      "text/plain": [
       "<matplotlib.figure.Figure at 0x11c5af510>"
      ]
     },
     "metadata": {},
     "output_type": "display_data"
    }
   ],
   "source": [
    "plt.clf()\n",
    "plt.plot(epochs, acc, 'bo', label='Training Accuracy')\n",
    "plt.plot(epochs, val_acc, 'b', label='Validation Accuracy')\n",
    "plt.title('Training and Validation accuracy')\n",
    "plt.xlabel('Epochs')\n",
    "plt.ylabel('Accuracy')\n",
    "plt.legend()\n",
    "\n",
    "plt.show()"
   ]
  },
  {
   "cell_type": "code",
   "execution_count": 36,
   "metadata": {},
   "outputs": [],
   "source": [
    "%matplotlib inline"
   ]
  },
  {
   "cell_type": "code",
   "execution_count": 47,
   "metadata": {},
   "outputs": [
    {
     "data": {
      "image/png": "[encoded data removed]",
      "text/plain": [
       "<matplotlib.figure.Figure at 0x11c84b990>"
      ]
     },
     "metadata": {},
     "output_type": "display_data"
    }
   ],
   "source": [
    "import wgutil\n",
    "wgutil.plot_loss(history)"
   ]
  },
  {
   "cell_type": "code",
   "execution_count": 48,
   "metadata": {},
   "outputs": [
    {
     "ename": "NameError",
     "evalue": "global name 'loss' is not defined",
     "output_type": "error",
     "traceback": [
      "\u001b[0;31m---------------------------------------------------------------------------\u001b[0m",
      "\u001b[0;31mNameError\u001b[0m                                 Traceback (most recent call last)",
      "\u001b[0;32m<ipython-input-48-b3a220274f99>\u001b[0m in \u001b[0;36m<module>\u001b[0;34m()\u001b[0m\n\u001b[1;32m      1\u001b[0m \u001b[0;32mimport\u001b[0m \u001b[0mwgutil\u001b[0m\u001b[0;34m\u001b[0m\u001b[0m\n\u001b[1;32m      2\u001b[0m \u001b[0mplt\u001b[0m\u001b[0;34m.\u001b[0m\u001b[0mclf\u001b[0m\u001b[0;34m(\u001b[0m\u001b[0;34m)\u001b[0m\u001b[0;34m\u001b[0m\u001b[0m\n\u001b[0;32m----> 3\u001b[0;31m \u001b[0mwgutil\u001b[0m\u001b[0;34m.\u001b[0m\u001b[0mplot_acc\u001b[0m\u001b[0;34m(\u001b[0m\u001b[0mhistory\u001b[0m\u001b[0;34m)\u001b[0m\u001b[0;34m\u001b[0m\u001b[0m\n\u001b[0m",
      "\u001b[0;32m/Users/weiguo/tensorflow/git/ai/learn_tensorflow/wgutil.py\u001b[0m in \u001b[0;36mplot_acc\u001b[0;34m(history)\u001b[0m\n\u001b[1;32m     16\u001b[0m         \u001b[0macc\u001b[0m \u001b[0;34m=\u001b[0m \u001b[0mhistory\u001b[0m\u001b[0;34m.\u001b[0m\u001b[0mhistory\u001b[0m\u001b[0;34m[\u001b[0m\u001b[0;34m'acc'\u001b[0m\u001b[0;34m]\u001b[0m\u001b[0;34m\u001b[0m\u001b[0m\n\u001b[1;32m     17\u001b[0m         \u001b[0mval_acc\u001b[0m \u001b[0;34m=\u001b[0m \u001b[0mhistory\u001b[0m\u001b[0;34m.\u001b[0m\u001b[0mhistory\u001b[0m\u001b[0;34m[\u001b[0m\u001b[0;34m'val_acc'\u001b[0m\u001b[0;34m]\u001b[0m\u001b[0;34m\u001b[0m\u001b[0m\n\u001b[0;32m---> 18\u001b[0;31m         \u001b[0mepochs\u001b[0m \u001b[0;34m=\u001b[0m \u001b[0mrange\u001b[0m\u001b[0;34m(\u001b[0m\u001b[0;36m1\u001b[0m\u001b[0;34m,\u001b[0m \u001b[0mlen\u001b[0m\u001b[0;34m(\u001b[0m\u001b[0macc\u001b[0m\u001b[0;34m)\u001b[0m \u001b[0;34m+\u001b[0m \u001b[0;36m1\u001b[0m\u001b[0;34m)\u001b[0m\u001b[0;34m\u001b[0m\u001b[0m\n\u001b[0m\u001b[1;32m     19\u001b[0m         \u001b[0mplt\u001b[0m\u001b[0;34m.\u001b[0m\u001b[0mplot\u001b[0m\u001b[0;34m(\u001b[0m\u001b[0mepochs\u001b[0m\u001b[0;34m,\u001b[0m \u001b[0macc\u001b[0m\u001b[0;34m,\u001b[0m \u001b[0;34m'bo'\u001b[0m\u001b[0;34m,\u001b[0m \u001b[0mlabel\u001b[0m\u001b[0;34m=\u001b[0m\u001b[0;34m'Training Accuracy'\u001b[0m\u001b[0;34m)\u001b[0m\u001b[0;34m\u001b[0m\u001b[0m\n\u001b[1;32m     20\u001b[0m         \u001b[0mplt\u001b[0m\u001b[0;34m.\u001b[0m\u001b[0mplot\u001b[0m\u001b[0;34m(\u001b[0m\u001b[0mepochs\u001b[0m\u001b[0;34m,\u001b[0m \u001b[0mval_acc\u001b[0m\u001b[0;34m,\u001b[0m \u001b[0;34m'b'\u001b[0m\u001b[0;34m,\u001b[0m \u001b[0mlabel\u001b[0m\u001b[0;34m=\u001b[0m\u001b[0;34m'Validation Accuracy'\u001b[0m\u001b[0;34m)\u001b[0m\u001b[0;34m\u001b[0m\u001b[0m\n",
      "\u001b[0;31mNameError\u001b[0m: global name 'loss' is not defined"
     ]
    },
    {
     "data": {
      "text/plain": [
       "<matplotlib.figure.Figure at 0x11bf0fd10>"
      ]
     },
     "metadata": {},
     "output_type": "display_data"
    }
   ],
   "source": [
    "import wgutil\n",
    "plt.clf()\n",
    "wgutil.plot_acc(history)"
   ]
  },
  {
   "cell_type": "code",
   "execution_count": null,
   "metadata": {},
   "outputs": [],
   "source": []
  },
  {
   "cell_type": "code",
   "execution_count": null,
   "metadata": {},
   "outputs": [],
   "source": []
  }
 ],
 "metadata": {
  "kernelspec": {
   "display_name": "Python 2",
   "language": "python",
   "name": "python2"
  },
  "language_info": {
   "codemirror_mode": {
    "name": "ipython",
    "version": 2
   },
   "file_extension": ".py",
   "mimetype": "text/x-python",
   "name": "python",
   "nbconvert_exporter": "python",
   "pygments_lexer": "ipython2",
   "version": "2.7.10"
  }
 },
 "nbformat": 4,
 "nbformat_minor": 2
}
