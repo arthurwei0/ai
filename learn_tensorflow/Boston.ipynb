{
 "cells": [
  {
   "cell_type": "markdown",
   "metadata": {},
   "source": [
    "The tutorial is at https://www.tensorflow.org/tutorials/keras/basic_regression"
   ]
  },
  {
   "cell_type": "code",
   "execution_count": 1,
   "metadata": {},
   "outputs": [
    {
     "name": "stdout",
     "output_type": "stream",
     "text": [
      "1.10.0\n"
     ]
    }
   ],
   "source": [
    "import tensorflow as tf\n",
    "from tensorflow import keras\n",
    "\n",
    "import numpy as np\n",
    "import pandas as pd\n",
    "\n",
    "print(tf.__version__)"
   ]
  },
  {
   "cell_type": "code",
   "execution_count": 2,
   "metadata": {},
   "outputs": [
    {
     "name": "stdout",
     "output_type": "stream",
     "text": [
      "(404, 13)\n",
      "(404,)\n",
      "(102, 13)\n",
      "(102,)\n"
     ]
    }
   ],
   "source": [
    "boston_housing = keras.datasets.boston_housing\n",
    "(train_data, train_labels), (test_data, test_labels) = boston_housing.load_data()\n",
    "for x in [train_data, train_labels, test_data, test_labels]:\n",
    "    print(x.shape)"
   ]
  },
  {
   "cell_type": "code",
   "execution_count": 3,
   "metadata": {},
   "outputs": [
    {
     "name": "stdout",
     "output_type": "stream",
     "text": [
      "(404, 13)\n",
      "(404,)\n",
      "(102, 13)\n",
      "(102,)\n"
     ]
    }
   ],
   "source": [
    "# Shuffle the training set\n",
    "order = np.argsort(np.random.random(train_labels.shape))\n",
    "train_data = train_data[order]\n",
    "train_labels = train_labels[order]\n",
    "for x in [train_data, train_labels, test_data, test_labels]:\n",
    "    print(x.shape)"
   ]
  },
  {
   "cell_type": "raw",
   "metadata": {},
   "source": [
    "The dataset contains 13 different features:\n",
    "\n",
    "Per capita crime rate.\n",
    "The proportion of residential land zoned for lots over 25,000 square feet.\n",
    "The proportion of non-retail business acres per town.\n",
    "Charles River dummy variable (= 1 if tract bounds river; 0 otherwise).\n",
    "Nitric oxides concentration (parts per 10 million).\n",
    "The average number of rooms per dwelling.\n",
    "The proportion of owner-occupied units built before 1940.\n",
    "Weighted distances to five Boston employment centers.\n",
    "Index of accessibility to radial highways.\n",
    "Full-value property-tax rate per $10,000.\n",
    "Pupil-teacher ratio by town.\n",
    "1000 * (Bk - 0.63) ** 2 where Bk is the proportion of Black people by town.\n",
    "Percentage lower status of the population."
   ]
  },
  {
   "cell_type": "code",
   "execution_count": 4,
   "metadata": {},
   "outputs": [
    {
     "data": {
      "text/plain": [
       "array([7.8750e-02, 4.5000e+01, 3.4400e+00, 0.0000e+00, 4.3700e-01,\n",
       "       6.7820e+00, 4.1100e+01, 3.7886e+00, 5.0000e+00, 3.9800e+02,\n",
       "       1.5200e+01, 3.9387e+02, 6.6800e+00])"
      ]
     },
     "execution_count": 4,
     "metadata": {},
     "output_type": "execute_result"
    }
   ],
   "source": [
    "train_data[0]"
   ]
  },
  {
   "cell_type": "code",
   "execution_count": 31,
   "metadata": {},
   "outputs": [
    {
     "data": {
      "text/html": [
       "<div>\n",
       "<style scoped>\n",
       "    .dataframe tbody tr th:only-of-type {\n",
       "        vertical-align: middle;\n",
       "    }\n",
       "\n",
       "    .dataframe tbody tr th {\n",
       "        vertical-align: top;\n",
       "    }\n",
       "\n",
       "    .dataframe thead th {\n",
       "        text-align: right;\n",
       "    }\n",
       "</style>\n",
       "<table border=\"1\" class=\"dataframe\">\n",
       "  <thead>\n",
       "    <tr style=\"text-align: right;\">\n",
       "      <th></th>\n",
       "      <th>CRIM</th>\n",
       "      <th>ZN</th>\n",
       "      <th>INDUS</th>\n",
       "      <th>CHAS</th>\n",
       "      <th>NOX</th>\n",
       "      <th>RM</th>\n",
       "      <th>AGE</th>\n",
       "      <th>DIS</th>\n",
       "      <th>RAD</th>\n",
       "      <th>TAX</th>\n",
       "      <th>PTRATIO</th>\n",
       "      <th>B</th>\n",
       "      <th>LSTAT</th>\n",
       "    </tr>\n",
       "  </thead>\n",
       "  <tbody>\n",
       "    <tr>\n",
       "      <th>0</th>\n",
       "      <td>-0.397253</td>\n",
       "      <td>1.412057</td>\n",
       "      <td>-1.126646</td>\n",
       "      <td>-0.256833</td>\n",
       "      <td>-1.027385</td>\n",
       "      <td>0.726354</td>\n",
       "      <td>-1.000164</td>\n",
       "      <td>0.023834</td>\n",
       "      <td>-0.511142</td>\n",
       "      <td>-0.047533</td>\n",
       "      <td>-1.490674</td>\n",
       "      <td>0.415841</td>\n",
       "      <td>-0.836487</td>\n",
       "    </tr>\n",
       "    <tr>\n",
       "      <th>1</th>\n",
       "      <td>0.087846</td>\n",
       "      <td>-0.483615</td>\n",
       "      <td>1.028326</td>\n",
       "      <td>-0.256833</td>\n",
       "      <td>1.371293</td>\n",
       "      <td>-3.817250</td>\n",
       "      <td>0.676891</td>\n",
       "      <td>-1.049006</td>\n",
       "      <td>1.675886</td>\n",
       "      <td>1.565287</td>\n",
       "      <td>0.784476</td>\n",
       "      <td>-0.000885</td>\n",
       "      <td>-0.775760</td>\n",
       "    </tr>\n",
       "    <tr>\n",
       "      <th>2</th>\n",
       "      <td>-0.395379</td>\n",
       "      <td>1.201427</td>\n",
       "      <td>-0.690066</td>\n",
       "      <td>-0.256833</td>\n",
       "      <td>-0.942023</td>\n",
       "      <td>0.827918</td>\n",
       "      <td>-0.939245</td>\n",
       "      <td>0.259915</td>\n",
       "      <td>-0.626249</td>\n",
       "      <td>-0.914123</td>\n",
       "      <td>-0.398602</td>\n",
       "      <td>0.448077</td>\n",
       "      <td>-1.347144</td>\n",
       "    </tr>\n",
       "    <tr>\n",
       "      <th>3</th>\n",
       "      <td>-0.403759</td>\n",
       "      <td>3.097099</td>\n",
       "      <td>-1.022279</td>\n",
       "      <td>-0.256833</td>\n",
       "      <td>-1.095675</td>\n",
       "      <td>0.351129</td>\n",
       "      <td>-1.480347</td>\n",
       "      <td>2.364762</td>\n",
       "      <td>-0.626249</td>\n",
       "      <td>-0.330379</td>\n",
       "      <td>-0.262093</td>\n",
       "      <td>0.400521</td>\n",
       "      <td>-0.880652</td>\n",
       "    </tr>\n",
       "    <tr>\n",
       "      <th>4</th>\n",
       "      <td>-0.348692</td>\n",
       "      <td>-0.483615</td>\n",
       "      <td>-0.720935</td>\n",
       "      <td>-0.256833</td>\n",
       "      <td>-0.455458</td>\n",
       "      <td>3.467186</td>\n",
       "      <td>0.501302</td>\n",
       "      <td>-0.417158</td>\n",
       "      <td>-0.165822</td>\n",
       "      <td>-0.595170</td>\n",
       "      <td>-0.489608</td>\n",
       "      <td>0.289557</td>\n",
       "      <td>-1.119419</td>\n",
       "    </tr>\n",
       "  </tbody>\n",
       "</table>\n",
       "</div>"
      ],
      "text/plain": [
       "       CRIM        ZN     INDUS      CHAS       NOX        RM       AGE  \\\n",
       "0 -0.397253  1.412057 -1.126646 -0.256833 -1.027385  0.726354 -1.000164   \n",
       "1  0.087846 -0.483615  1.028326 -0.256833  1.371293 -3.817250  0.676891   \n",
       "2 -0.395379  1.201427 -0.690066 -0.256833 -0.942023  0.827918 -0.939245   \n",
       "3 -0.403759  3.097099 -1.022279 -0.256833 -1.095675  0.351129 -1.480347   \n",
       "4 -0.348692 -0.483615 -0.720935 -0.256833 -0.455458  3.467186  0.501302   \n",
       "\n",
       "        DIS       RAD       TAX   PTRATIO         B     LSTAT  \n",
       "0  0.023834 -0.511142 -0.047533 -1.490674  0.415841 -0.836487  \n",
       "1 -1.049006  1.675886  1.565287  0.784476 -0.000885 -0.775760  \n",
       "2  0.259915 -0.626249 -0.914123 -0.398602  0.448077 -1.347144  \n",
       "3  2.364762 -0.626249 -0.330379 -0.262093  0.400521 -0.880652  \n",
       "4 -0.417158 -0.165822 -0.595170 -0.489608  0.289557 -1.119419  "
      ]
     },
     "execution_count": 31,
     "metadata": {},
     "output_type": "execute_result"
    }
   ],
   "source": [
    "column_names = ['CRIM', 'ZN', 'INDUS', 'CHAS', 'NOX', 'RM', 'AGE', 'DIS', 'RAD',\n",
    "                'TAX', 'PTRATIO', 'B', 'LSTAT']\n",
    "df = pd.DataFrame(train_data, columns=column_names)\n",
    "df.head()"
   ]
  },
  {
   "cell_type": "code",
   "execution_count": 6,
   "metadata": {},
   "outputs": [],
   "source": [
    "mean = train_data.mean(axis=0)\n",
    "std = train_data.std(axis=0)\n",
    "train_data = (train_data - mean) / std\n",
    "test_data = (test_data - mean) / std"
   ]
  },
  {
   "cell_type": "code",
   "execution_count": 32,
   "metadata": {},
   "outputs": [
    {
     "name": "stdout",
     "output_type": "stream",
     "text": [
      "mean= [3.74511057e+00 1.14801980e+01 1.11044307e+01 6.18811881e-02\n",
      " 5.57355941e-01 6.26708168e+00 6.90106436e+01 3.74027079e+00\n",
      " 9.44059406e+00 4.05898515e+02 1.84759901e+01 3.54783168e+02\n",
      " 1.27408168e+01] , std= [9.22929073e+00 2.37382770e+01 6.80287253e+00 2.40939633e-01\n",
      " 1.17147847e-01 7.08908627e-01 2.79060634e+01 2.02770050e+00\n",
      " 8.68758849e+00 1.66168506e+02 2.19765689e+00 9.39946015e+01\n",
      " 7.24556085e+00]\n"
     ]
    }
   ],
   "source": [
    "print('mean=', mean, \", std=\", std)"
   ]
  },
  {
   "cell_type": "code",
   "execution_count": 34,
   "metadata": {},
   "outputs": [
    {
     "name": "stdout",
     "output_type": "stream",
     "text": [
      "[ 7.2 18.8 19.  27.  22.2 24.5 31.2 22.9 20.5 23.2 18.6 14.5 17.8 50.\n",
      " 20.8 24.3 24.2 19.8 19.1 22.7 12.  10.2 20.  18.5 20.9 23.  27.5 30.1\n",
      "  9.5 22.  21.2 14.1 33.1 23.4 20.1  7.4 15.4 23.8 20.1 24.5 33.  28.4\n",
      " 14.1 46.7 32.5 29.6 28.4 19.8 20.2 25.  35.4 20.3  9.7 14.5 34.9 26.6\n",
      "  7.2 50.  32.4 21.6 29.8 13.1 27.5 21.2 23.1 21.9 13.  23.2  8.1  5.6\n",
      " 21.7 29.6 19.6  7.  26.4 18.9 20.9 28.1 35.4 10.2 24.3 43.1 17.6 15.4\n",
      " 16.2 27.1 21.4 21.5 22.4 25.  16.6 18.6 22.  42.8 35.1 21.5 36.  21.9\n",
      " 24.1 50.  26.7 25. ]\n"
     ]
    }
   ],
   "source": [
    "print(test_labels)"
   ]
  },
  {
   "cell_type": "code",
   "execution_count": 7,
   "metadata": {},
   "outputs": [],
   "source": [
    "def build_model():\n",
    "    model = keras.Sequential([\n",
    "        keras.layers.Dense(64, activation=tf.nn.relu, input_shape=(train_data.shape[1],)),\n",
    "        keras.layers.Dense(64, activation=tf.nn.relu),\n",
    "        keras.layers.Dense(1)\n",
    "    ])\n",
    "    optimizer = tf.train.RMSPropOptimizer(0.001)\n",
    "    model.compile(loss='mse', optimizer=optimizer, metrics=['mae'])\n",
    "    return model"
   ]
  },
  {
   "cell_type": "code",
   "execution_count": 8,
   "metadata": {},
   "outputs": [
    {
     "name": "stdout",
     "output_type": "stream",
     "text": [
      "_________________________________________________________________\n",
      "Layer (type)                 Output Shape              Param #   \n",
      "=================================================================\n",
      "dense (Dense)                (None, 64)                896       \n",
      "_________________________________________________________________\n",
      "dense_1 (Dense)              (None, 64)                4160      \n",
      "_________________________________________________________________\n",
      "dense_2 (Dense)              (None, 1)                 65        \n",
      "=================================================================\n",
      "Total params: 5,121\n",
      "Trainable params: 5,121\n",
      "Non-trainable params: 0\n",
      "_________________________________________________________________\n"
     ]
    }
   ],
   "source": [
    "model = build_model()\n",
    "model.summary()"
   ]
  },
  {
   "cell_type": "code",
   "execution_count": 11,
   "metadata": {},
   "outputs": [],
   "source": [
    "class PrintDot(keras.callbacks.Callback):\n",
    "    def on_epoch_end(self, epoch, logs):\n",
    "        if (epoch % 100 == 0):\n",
    "            print('')\n",
    "        print('.', end='')\n",
    "            "
   ]
  },
  {
   "cell_type": "code",
   "execution_count": 13,
   "metadata": {},
   "outputs": [
    {
     "name": "stdout",
     "output_type": "stream",
     "text": [
      "\n",
      "....................................................................................................\n",
      "....................................................................................................\n",
      "....................................................................................................\n",
      "....................................................................................................\n",
      "...................................................................................................."
     ]
    }
   ],
   "source": [
    "history = model.fit(train_data, train_labels, epochs = 500,\n",
    "                   validation_split = 0.2, verbose = 0,\n",
    "                   callbacks=[PrintDot()])"
   ]
  },
  {
   "cell_type": "code",
   "execution_count": 14,
   "metadata": {},
   "outputs": [],
   "source": [
    "import matplotlib.pyplot as plt\n",
    "\n",
    "def plot(history, metric):\n",
    "\ttrain_metric = history.history[metric]\n",
    "\tval_metric = history.history['val_' + metric]\n",
    "\tepochs = range(1, len(history.epoch)+1)\n",
    "\tplt.plot(epochs, train_metric, 'bo', label='Training ' + metric)\n",
    "\tplt.plot(epochs, val_metric, 'b', label='Validation ' + metric)\n",
    "\tplt.title('Training and Validation ' + metric)\n",
    "\tplt.xlabel('Epochs')\n",
    "\tplt.ylabel(metric)\n",
    "\tplt.legend()\n",
    "\tplt.show()"
   ]
  },
  {
   "cell_type": "code",
   "execution_count": 18,
   "metadata": {},
   "outputs": [
    {
     "name": "stdout",
     "output_type": "stream",
     "text": [
      "val_loss\n",
      "val_mean_absolute_error\n",
      "loss\n",
      "mean_absolute_error\n"
     ]
    }
   ],
   "source": [
    "len(history.epoch)\n",
    "for key in history.history:\n",
    "    print(key)"
   ]
  },
  {
   "cell_type": "code",
   "execution_count": 21,
   "metadata": {},
   "outputs": [
    {
     "data": {
      "image/png": "[encoded data removed]",
      "text/plain": [
       "<Figure size 432x288 with 1 Axes>"
      ]
     },
     "metadata": {},
     "output_type": "display_data"
    },
    {
     "data": {
      "image/png": "[encoded data removed]",
      "text/plain": [
       "<Figure size 432x288 with 1 Axes>"
      ]
     },
     "metadata": {},
     "output_type": "display_data"
    }
   ],
   "source": [
    "plot(history, 'loss')\n",
    "plot(history, 'mean_absolute_error')"
   ]
  },
  {
   "cell_type": "code",
   "execution_count": 26,
   "metadata": {},
   "outputs": [
    {
     "name": "stdout",
     "output_type": "stream",
     "text": [
      "\n",
      "....................................................................................................\n",
      "....................................................................................................\n",
      "...................................................................................................."
     ]
    }
   ],
   "source": [
    "model = build_model()\n",
    "\n",
    "early_stop = keras.callbacks.EarlyStopping(monitor='val_loss', patience=20)\n",
    "\n",
    "history = model.fit(train_data, train_labels, epochs=500,\n",
    "                   validation_split=0.2, verbose=0,\n",
    "                   callbacks=[early_stop, PrintDot()])"
   ]
  },
  {
   "cell_type": "code",
   "execution_count": 27,
   "metadata": {},
   "outputs": [
    {
     "data": {
      "image/png": "[encoded data removed]",
      "text/plain": [
       "<Figure size 432x288 with 1 Axes>"
      ]
     },
     "metadata": {},
     "output_type": "display_data"
    }
   ],
   "source": [
    "def plot_history(history):\n",
    "  plt.figure()\n",
    "  plt.xlabel('Epoch')\n",
    "  plt.ylabel('Mean Abs Error [1000$]')\n",
    "  plt.plot(history.epoch, np.array(history.history['mean_absolute_error']), \n",
    "           label='Train Loss')\n",
    "  plt.plot(history.epoch, np.array(history.history['val_mean_absolute_error']),\n",
    "           label = 'Val loss')\n",
    "  plt.legend()\n",
    "  plt.ylim([0,5])\n",
    "\n",
    "plot_history(history)"
   ]
  },
  {
   "cell_type": "code",
   "execution_count": 29,
   "metadata": {},
   "outputs": [
    {
     "name": "stdout",
     "output_type": "stream",
     "text": [
      "2676.2748325572297\n"
     ]
    }
   ],
   "source": [
    "[loss, mae] = model.evaluate(test_data, test_labels, verbose=0)\n",
    "print (mae*1000)"
   ]
  },
  {
   "cell_type": "code",
   "execution_count": 30,
   "metadata": {},
   "outputs": [
    {
     "name": "stdout",
     "output_type": "stream",
     "text": [
      "[ 9.885587  19.481512  22.198696  35.604324  25.80843   23.285376\n",
      " 27.012335  21.900812  20.566164  23.12688   24.941978  16.858725\n",
      " 16.334028  42.902737  21.52157   20.750273  26.173384  18.223925\n",
      " 20.65071   27.733488  12.04533   14.971503  22.389822  15.87551\n",
      " 16.67615   25.574282  29.934175  30.541397  12.203216  19.886473\n",
      " 20.083841  17.19797   33.357216  24.2992    21.112211   8.1195545\n",
      " 18.413033  16.640364  18.577711  26.671335  33.733253  28.014032\n",
      " 13.934089  42.6305    30.458506  27.46561   27.839167  19.63694\n",
      " 23.942797  23.614288  36.654095  20.365923  10.607762  14.818755\n",
      " 34.959663  28.853619  12.643178  48.133495  33.743736  25.52552\n",
      " 25.033152  16.179148  15.9712515 20.732311  24.325346  20.325678\n",
      " 15.467034  21.739225  11.994011   9.463901  27.507105  30.059237\n",
      " 28.008265  12.654889  25.810417  19.356163  19.399923  25.031359\n",
      " 34.981773   9.864607  22.805223  37.713547  16.293137  14.956367\n",
      " 16.780657  18.23509   21.177666  22.129341  22.085722  33.47577\n",
      " 21.195381  17.94028   25.705149  42.97503   35.509914  22.1104\n",
      " 35.24031   46.515343  26.100216  47.193325  30.636145  20.138098 ]\n"
     ]
    }
   ],
   "source": [
    "test_predictions = model.predict(test_data).flatten()\n",
    "print(test_predictions)"
   ]
  },
  {
   "cell_type": "code",
   "execution_count": null,
   "metadata": {},
   "outputs": [],
   "source": []
  },
  {
   "cell_type": "code",
   "execution_count": null,
   "metadata": {},
   "outputs": [],
   "source": []
  },
  {
   "cell_type": "code",
   "execution_count": null,
   "metadata": {},
   "outputs": [],
   "source": []
  },
  {
   "cell_type": "code",
   "execution_count": null,
   "metadata": {},
   "outputs": [],
   "source": []
  }
 ],
 "metadata": {
  "kernelspec": {
   "display_name": "Python 3",
   "language": "python",
   "name": "python3"
  },
  "language_info": {
   "codemirror_mode": {
    "name": "ipython",
    "version": 3
   },
   "file_extension": ".py",
   "mimetype": "text/x-python",
   "name": "python",
   "nbconvert_exporter": "python",
   "pygments_lexer": "ipython3",
   "version": "3.6.5"
  }
 },
 "nbformat": 4,
 "nbformat_minor": 2
}
